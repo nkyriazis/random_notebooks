{
 "cells": [
  {
   "cell_type": "code",
   "execution_count": 30,
   "metadata": {},
   "outputs": [],
   "source": [
    "from mnist import *\n",
    "import pyro\n",
    "import pyro.infer\n",
    "import pyro.optim\n",
    "import pyro.contrib.autoguide\n",
    "import pyro.poutine\n",
    "from tensorboardX import SummaryWriter\n",
    "from itertools import product\n",
    "import matplotlib.pyplot as plt"
   ]
  },
  {
   "cell_type": "code",
   "execution_count": 2,
   "metadata": {},
   "outputs": [],
   "source": [
    "# datasets\n",
    "\n",
    "use_cuda = False\n",
    "\n",
    "device = torch.device(\"cuda\" if use_cuda else \"cpu\")\n",
    "\n",
    "train_loader = torch.utils.data.DataLoader(\n",
    "    datasets.MNIST('./data', train=True, download=True,\n",
    "                   transform=transforms.Compose([\n",
    "                       transforms.ToTensor(),\n",
    "                       transforms.Normalize((0.1307,), (0.3081,))\n",
    "                   ])),\n",
    "    batch_size=64, shuffle=True)\n",
    "test_loader = torch.utils.data.DataLoader(\n",
    "    datasets.MNIST('./data', train=False, transform=transforms.Compose([\n",
    "                       transforms.ToTensor(),\n",
    "                       transforms.Normalize((0.1307,), (0.3081,))\n",
    "                   ])),\n",
    "    batch_size=1000, shuffle=True)"
   ]
  },
  {
   "cell_type": "code",
   "execution_count": null,
   "metadata": {},
   "outputs": [],
   "source": [
    "# regular training\n",
    "\n",
    "class Args:\n",
    "    log_interval = 100\n",
    "\n",
    "model = Net()\n",
    "optimizer = optim.SGD(model.parameters(), lr=0.01, momentum=0.5)\n",
    "\n",
    "for epoch in range(1, 10 + 1):\n",
    "    train(Args(), model, device, train_loader, optimizer, epoch)\n",
    "    test(Args(), model, device, test_loader)"
   ]
  },
  {
   "cell_type": "code",
   "execution_count": 3,
   "metadata": {},
   "outputs": [],
   "source": [
    "def geturlattr(obj, url):\n",
    "    attrs = url.split('.')\n",
    "    ret = obj\n",
    "    for attr in attrs:\n",
    "        ret = getattr(ret, attr)\n",
    "    return ret"
   ]
  },
  {
   "cell_type": "code",
   "execution_count": 4,
   "metadata": {},
   "outputs": [],
   "source": [
    "# probabilistic training\n",
    "elems = [ first + '.' + second for first, second in product(['conv1', 'conv2', 'fc1', 'fc2'], ['weight', 'bias']) ]\n",
    "\n",
    "net_prob = Net(softmax=False)\n",
    "\n",
    "def model(X, Y=None):    \n",
    "    net = pyro.module('net', net_prob)\n",
    "    logits = net(X)\n",
    "    pyro.sample('Y', pyro.distributions.Categorical(logits=logits), obs=Y)\n",
    "\n",
    "def guide(X, Y=None):\n",
    "    pass"
   ]
  },
  {
   "cell_type": "code",
   "execution_count": 13,
   "metadata": {},
   "outputs": [],
   "source": [
    "optimizer = pyro.optim.Adamax({'lr':0.001})\n",
    "svi = pyro.infer.SVI(model, guide, optimizer, loss=pyro.infer.Trace_ELBO())\n",
    "w = SummaryWriter()"
   ]
  },
  {
   "cell_type": "code",
   "execution_count": 6,
   "metadata": {},
   "outputs": [],
   "source": [
    "pyro.clear_param_store()"
   ]
  },
  {
   "cell_type": "code",
   "execution_count": null,
   "metadata": {},
   "outputs": [],
   "source": [
    "for epoch in range(50):\n",
    "    epoch_loss = 0\n",
    "    for batch, (X, Y) in enumerate(train_loader):\n",
    "        loss = svi.step(X, Y)\n",
    "        epoch_loss += loss\n",
    "        w.add_scalar('batch_loss_epoch%03d' % epoch, loss, batch)\n",
    "    w.add_scalar('epoch_loss', epoch_loss, epoch)   "
   ]
  },
  {
   "cell_type": "code",
   "execution_count": 15,
   "metadata": {},
   "outputs": [],
   "source": [
    "P = dict(pyro.get_param_store())"
   ]
  },
  {
   "cell_type": "code",
   "execution_count": 63,
   "metadata": {},
   "outputs": [],
   "source": [
    "count_cnn = 0\n",
    "success_cnn = 0\n",
    "count_cnnp = 0\n",
    "success_cnnp = 0\n",
    "\n",
    "for XX, YY in test_loader:\n",
    "    res_cnn = model(XX)\n",
    "    res_cnnp = net_prob(XX)\n",
    "    \n",
    "    count_cnn += res_cnn.shape[0]\n",
    "    count_cnnp += res_cnnp.shape[0]\n",
    "    \n",
    "    success_cnn += (torch.argmax(res_cnn, dim=1) == YY).sum()\n",
    "    success_cnnp += (torch.argmax(res_cnnp, dim=1) == YY).sum()"
   ]
  },
  {
   "cell_type": "code",
   "execution_count": 64,
   "metadata": {},
   "outputs": [
    {
     "name": "stdout",
     "output_type": "stream",
     "text": [
      "CNN: 0.9900000000\n"
     ]
    }
   ],
   "source": [
    "print('CNN: %1.10f' % (float(success_cnn) / float(count_cnn)))"
   ]
  },
  {
   "cell_type": "code",
   "execution_count": 76,
   "metadata": {},
   "outputs": [
    {
     "name": "stdout",
     "output_type": "stream",
     "text": [
      "CNNP: 0.9916000000\n"
     ]
    }
   ],
   "source": [
    "print('CNNP: %1.10f' % (float(success_cnnp) / float(count_cnnp)))"
   ]
  },
  {
   "cell_type": "code",
   "execution_count": 73,
   "metadata": {},
   "outputs": [
    {
     "data": {
      "text/plain": [
       "[<matplotlib.lines.Line2D at 0x151001a6320>]"
      ]
     },
     "execution_count": 73,
     "metadata": {},
     "output_type": "execute_result"
    },
    {
     "data": {
      "image/png": "[encoded data removed]",
      "text/plain": [
       "<Figure size 432x288 with 1 Axes>"
      ]
     },
     "metadata": {
      "needs_background": "light"
     },
     "output_type": "display_data"
    }
   ],
   "source": [
    "plt.title('PyTorch')\n",
    "plt.xlabel('class')\n",
    "plt.ylabel('logit (fed to log_softmax)')\n",
    "plt.grid()\n",
    "plt.plot(model(XX[0].unsqueeze(0)).detach().numpy().T)"
   ]
  },
  {
   "cell_type": "code",
   "execution_count": 75,
   "metadata": {},
   "outputs": [
    {
     "data": {
      "text/plain": [
       "[<matplotlib.lines.Line2D at 0x15100269dd8>]"
      ]
     },
     "execution_count": 75,
     "metadata": {},
     "output_type": "execute_result"
    },
    {
     "data": {
      "image/png": "[encoded data removed]",
      "text/plain": [
       "<Figure size 432x288 with 1 Axes>"
      ]
     },
     "metadata": {
      "needs_background": "light"
     },
     "output_type": "display_data"
    }
   ],
   "source": [
    "plt.title('Pyro')\n",
    "plt.xlabel('class')\n",
    "plt.ylabel('logit (fed to observed Categorical distribution)')\n",
    "plt.grid()\n",
    "plt.plot(net_prob(XX[0].unsqueeze(0)).detach().numpy().T)"
   ]
  },
  {
   "cell_type": "code",
   "execution_count": null,
   "metadata": {},
   "outputs": [],
   "source": []
  }
 ],
 "metadata": {
  "kernelspec": {
   "display_name": "Python 3",
   "language": "python",
   "name": "python3"
  },
  "language_info": {
   "codemirror_mode": {
    "name": "ipython",
    "version": 3
   },
   "file_extension": ".py",
   "mimetype": "text/x-python",
   "name": "python",
   "nbconvert_exporter": "python",
   "pygments_lexer": "ipython3",
   "version": "3.7.1"
  }
 },
 "nbformat": 4,
 "nbformat_minor": 2
}
