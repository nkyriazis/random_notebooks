{
 "cells": [
  {
   "cell_type": "code",
   "execution_count": 1,
   "metadata": {},
   "outputs": [],
   "source": [
    "import torch\n",
    "import torch.utils.data\n",
    "from skimage.io import imread\n",
    "from scipy.ndimage import gaussian_filter\n",
    "import cv2\n",
    "import json\n",
    "from torchvision.datasets import ImageFolder, DatasetFolder\n",
    "import torchvision\n",
    "import matplotlib.pyplot as plt\n",
    "import numpy as np"
   ]
  },
  {
   "cell_type": "markdown",
   "metadata": {},
   "source": [
    "# Use *torchvision* helpers to load the dataset"
   ]
  },
  {
   "cell_type": "code",
   "execution_count": 28,
   "metadata": {},
   "outputs": [],
   "source": [
    "images = ImageFolder('E:/temp/hand_labels_synth/hand_labels_synth')\n",
    "# for this to work, one needs to delete 'output_viz_synth' because it includes images that ruin the alignment\n",
    "joints = DatasetFolder('E:/temp/hand_labels_synth/hand_labels_synth',\n",
    "                       loader=lambda x: np.asarray(json.load(open(x, 'r'))['hand_pts']), extensions='json')\n",
    "\n",
    "class Dataset(torch.utils.data.Dataset):\n",
    "    def __init__(self, augmentation=100):\n",
    "        super(Dataset, self).__init__()\n",
    "        self.augmentation = augmentation\n",
    "        \n",
    "    def __len__(self):\n",
    "        return len(images) * self.augmentation\n",
    "    \n",
    "    def __getitem__(self, idx_):\n",
    "        idx = idx_ // self.augmentation\n",
    "        aug = idx_ % self.augmentation\n",
    "        \n",
    "        # backup random state and make random reproducible\n",
    "        state = np.random.get_state()\n",
    "        np.random.seed(idx_)\n",
    "        \n",
    "        # fetch from the loadeds\n",
    "        img, _ = images[idx]\n",
    "        J, _ = joints[idx]\n",
    "        img = np.array(img).astype(np.float32) / 255.\n",
    "        \n",
    "        # keep valid joints (not all images have all joints)\n",
    "        j = J[J[...,-1] == 1.0,:2]\n",
    "        \n",
    "        # get bounds\n",
    "        upper_left = j.min(axis=0)\n",
    "        bottom_right = j.max(axis=0)\n",
    "        \n",
    "        # compute center and scale\n",
    "        center = 0.5 * upper_left + 0.5 * bottom_right\n",
    "        scale = np.linalg.norm(upper_left - bottom_right) * 0.5\n",
    "        \n",
    "        # recompute bounds for an inscribing circle\n",
    "        upper_left = center - scale\n",
    "        bottom_right = center + scale\n",
    "                \n",
    "        # generate the initial perspective transform (to further purturb for augmentation)\n",
    "        transform = np.eye(3)\n",
    "        transform[:2,2] = upper_left\n",
    "        transform[0, 0] = transform[1, 1] = 2 * scale / 64\n",
    "        \n",
    "        def apply_transform(transform):\n",
    "            nz = J[...,-1] != 0.0\n",
    "            JJ = (np.linalg.inv(transform) @ J.T).T\n",
    "            JJ[nz] /= JJ[nz,-1][...,np.newaxis]\n",
    "            JJ[JJ[:,0] < 0] = 0\n",
    "            JJ[JJ[:,0] >= 64] = 0\n",
    "            JJ[JJ[:,1] < 0] = 0\n",
    "            JJ[JJ[:,1] >= 64] = 0\n",
    "            return cv2.warpPerspective(img, np.linalg.inv(transform), (64, 64), borderValue=np.nan), JJ\n",
    "                    \n",
    "        def check_transform(img, J):\n",
    "            return not np.any(np.isnan(img)) and (J[...,-1] != 0).sum() > 5\n",
    "        \n",
    "        # pivot transform\n",
    "        pivot = np.eye(3)\n",
    "        pivot[:2,2] = -32\n",
    "        ipivot = np.linalg.inv(pivot)\n",
    "\n",
    "        # sample rotation around center (32, 32)\n",
    "        ok = False\n",
    "        while not ok:\n",
    "            theta = np.random.rand() * np.pi\n",
    "            c, s = np.cos(theta), np.sin(theta)\n",
    "            R = ipivot @ np.array([[c, -s, 0], [s, c, 0], [0, 0, 1]]) @ pivot\n",
    "            ok = check_transform(*apply_transform(transform @ R))\n",
    "        transform = transform @ R\n",
    "                \n",
    "        # sample scale around center (32, 32)\n",
    "        ok = False\n",
    "        while not ok:\n",
    "            scale = np.maximum(1e-2, np.random.randn() + 1)\n",
    "            S = ipivot @ np.array([[scale, 0, 0], [0, scale, 0], [0, 0, 1]]) @ pivot\n",
    "            ok = check_transform(*apply_transform(transform @ S))\n",
    "        transform = transform @ S\n",
    "        \n",
    "        # sample perspective distortion\n",
    "        ok = False\n",
    "        while not ok:\n",
    "            shear_x = np.random.randn() * 0.2\n",
    "            shear_y = np.random.randn() * 0.2\n",
    "            SX = np.eye(3)\n",
    "            SX[1,0] = shear_x\n",
    "            SY = np.eye(3)\n",
    "            SY[0,1] = shear_y\n",
    "            S = ipivot @ SX @ SY @ pivot\n",
    "            ok = check_transform(*apply_transform(transform @ S))\n",
    "        transform = transform @ S\n",
    "        \n",
    "        # generate transformed image and joints\n",
    "        img, J = apply_transform(transform)\n",
    "        \n",
    "        # sample gamma (per channel) correction\n",
    "        gamma = np.maximum(0, np.random.randn(3))\n",
    "        img = (img ** gamma).mean(axis=-1)\n",
    "        \n",
    "        # sample blur\n",
    "        sigma = 2*np.maximum(0, np.random.rand())\n",
    "        img = gaussian_filter(img, sigma)\n",
    "        \n",
    "        # sample noise\n",
    "        img = img + np.random.randn() * 0.001 * np.random.randn(*img.shape)\n",
    "        \n",
    "        # clip image\n",
    "        img = np.maximum(0, np.minimum(1, img))\n",
    "        \n",
    "        # restore random state\n",
    "        np.random.set_state(state)\n",
    "        \n",
    "        # return\n",
    "        return img, J"
   ]
  },
  {
   "cell_type": "code",
   "execution_count": 29,
   "metadata": {},
   "outputs": [],
   "source": [
    "ds = Dataset()\n",
    "dl = torch.utils.data.DataLoader(ds, batch_size=32)"
   ]
  },
  {
   "cell_type": "markdown",
   "metadata": {},
   "source": [
    "# Visualize some"
   ]
  },
  {
   "cell_type": "code",
   "execution_count": 37,
   "metadata": {},
   "outputs": [
    {
     "data": {
      "text/plain": [
       "<matplotlib.collections.PathCollection at 0x27a76859748>"
      ]
     },
     "execution_count": 37,
     "metadata": {},
     "output_type": "execute_result"
    },
    {
     "data": {
      "image/png": "[encoded data removed]",
      "text/plain": [
       "<Figure size 1080x1080 with 1 Axes>"
      ]
     },
     "metadata": {
      "needs_background": "light"
     },
     "output_type": "display_data"
    }
   ],
   "source": [
    "img, j = ds[6]\n",
    "j = j[j[...,-1]!=0]\n",
    "plt.figure(figsize=(15,15))\n",
    "plt.imshow(img, 'gray')\n",
    "plt.scatter(j[...,0], j[...,1])"
   ]
  }
 ],
 "metadata": {
  "kernelspec": {
   "display_name": "Python 3",
   "language": "python",
   "name": "python3"
  },
  "language_info": {
   "codemirror_mode": {
    "name": "ipython",
    "version": 3
   },
   "file_extension": ".py",
   "mimetype": "text/x-python",
   "name": "python",
   "nbconvert_exporter": "python",
   "pygments_lexer": "ipython3",
   "version": "3.7.3"
  }
 },
 "nbformat": 4,
 "nbformat_minor": 2
}
